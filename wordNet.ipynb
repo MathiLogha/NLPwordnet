{
  "nbformat": 4,
  "nbformat_minor": 0,
  "metadata": {
    "colab": {
      "provenance": [],
      "authorship_tag": "ABX9TyOHRWUbiQc49iO+/a4AOwLK",
      "include_colab_link": true
    },
    "kernelspec": {
      "name": "python3",
      "display_name": "Python 3"
    },
    "language_info": {
      "name": "python"
    }
  },
  "cells": [
    {
      "cell_type": "markdown",
      "metadata": {
        "id": "view-in-github",
        "colab_type": "text"
      },
      "source": [
        "<a href=\"https://colab.research.google.com/github/MathiLogha/NLPwordnet/blob/main/wordNet.ipynb\" target=\"_parent\"><img src=\"https://colab.research.google.com/assets/colab-badge.svg\" alt=\"Open In Colab\"/></a>"
      ]
    },
    {
      "cell_type": "code",
      "execution_count": null,
      "metadata": {
        "id": "evDidRerMf6Y"
      },
      "outputs": [],
      "source": [
        "from nltk.corpus import wordnet\n",
        "from wordcloud import WordCloud\n",
        "import matplotlib.pyplot as plt"
      ]
    },
    {
      "cell_type": "code",
      "source": [
        "import nltk\n",
        "nltk.download('wordnet')"
      ],
      "metadata": {
        "colab": {
          "base_uri": "https://localhost:8080/"
        },
        "id": "4C8DQyiiYZ_V",
        "outputId": "d0ee849c-b5c2-47f3-e8fc-cb1e133ac0b6"
      },
      "execution_count": null,
      "outputs": [
        {
          "output_type": "stream",
          "name": "stderr",
          "text": [
            "[nltk_data] Downloading package wordnet to /root/nltk_data...\n",
            "[nltk_data]   Package wordnet is already up-to-date!\n"
          ]
        },
        {
          "output_type": "execute_result",
          "data": {
            "text/plain": [
              "True"
            ]
          },
          "metadata": {},
          "execution_count": 13
        }
      ]
    },
    {
      "cell_type": "code",
      "source": [
        "#Generate definitions\n",
        "synsets = wordnet.synsets('sport')\n",
        "for synset in synsets:\n",
        "    print(\"\\n * \"+ synset.definition())\n",
        "synonyms = []\n",
        "for lemma in synsets[0].lemmas():\n",
        "    synonyms.append(lemma.name())"
      ],
      "metadata": {
        "colab": {
          "base_uri": "https://localhost:8080/"
        },
        "id": "vHKFqC5kMsQ7",
        "outputId": "d9a11946-0b73-4c24-f13b-858f6777c977"
      },
      "execution_count": null,
      "outputs": [
        {
          "output_type": "stream",
          "name": "stdout",
          "text": [
            "\n",
            " * an active diversion requiring physical exertion and competition\n",
            "\n",
            " * the occupation of athletes who compete for pay\n",
            "\n",
            " * (Maine colloquial) a temporary summer resident of Maine\n",
            "\n",
            " * a person known for the way she (or he) behaves when teased or defeated or subjected to trying circumstances\n",
            "\n",
            " * someone who engages in sports\n",
            "\n",
            " * (biology) an organism that has characteristics resulting from chromosomal alteration\n",
            "\n",
            " * verbal wit or mockery (often at another's expense but not to be taken seriously)\n",
            "\n",
            " * wear or display in an ostentatious or proud manner\n",
            "\n",
            " * play boisterously\n"
          ]
        }
      ]
    },
    {
      "cell_type": "code",
      "source": [
        "synonyms_str = ' '.join(synonyms)"
      ],
      "metadata": {
        "id": "rNWL1AvnQaxy"
      },
      "execution_count": null,
      "outputs": []
    },
    {
      "cell_type": "code",
      "source": [
        "#wordcloud\n",
        "wordcloud = WordCloud(width=800, height=800, background_color='white').generate(synonyms_str)"
      ],
      "metadata": {
        "id": "bF8XpGXAQdfD"
      },
      "execution_count": null,
      "outputs": []
    },
    {
      "cell_type": "code",
      "source": [
        "plt.figure(figsize=(5, 3), facecolor=None)\n",
        "plt.imshow(wordcloud)\n",
        "plt.axis(\"off\")\n",
        "plt.tight_layout(pad=0)\n",
        "\n",
        "plt.show()"
      ],
      "metadata": {
        "colab": {
          "base_uri": "https://localhost:8080/",
          "height": 337
        },
        "id": "5j2b5AfvQfa0",
        "outputId": "e2ea5f1e-e1ec-49d5-ebf2-ba329733e248"
      },
      "execution_count": null,
      "outputs": [
        {
          "output_type": "display_data",
          "data": {
            "text/plain": [
              "<Figure size 500x300 with 1 Axes>"
            ],
            "image/png": "[encoded data removed]"
          },
          "metadata": {}
        }
      ]
    },
    {
      "cell_type": "code",
      "source": [
        "#Part-of-speech tagging\n",
        "import nltk\n",
        "nltk.download('averaged_perceptron_tagger')\n",
        "pos = []\n",
        "for synset in synsets:\n",
        "    pos.append(synset.pos())\n",
        "\n",
        "tagged_pos = nltk.pos_tag(pos)\n",
        "\n",
        "print(tagged_pos)"
      ],
      "metadata": {
        "colab": {
          "base_uri": "https://localhost:8080/"
        },
        "id": "__OGa0BdSYaq",
        "outputId": "40153de2-792a-41a0-8a22-b3f9909b5cd3"
      },
      "execution_count": null,
      "outputs": [
        {
          "output_type": "stream",
          "name": "stdout",
          "text": [
            "[('n', 'JJ'), ('n', 'JJ'), ('n', 'NN'), ('n', 'JJ'), ('n', 'JJ'), ('n', 'NN'), ('n', 'JJ'), ('v', 'NN'), ('v', 'NN')]\n"
          ]
        },
        {
          "output_type": "stream",
          "name": "stderr",
          "text": [
            "[nltk_data] Downloading package averaged_perceptron_tagger to\n",
            "[nltk_data]     /root/nltk_data...\n",
            "[nltk_data]   Package averaged_perceptron_tagger is already up-to-\n",
            "[nltk_data]       date!\n"
          ]
        }
      ]
    },
    {
      "cell_type": "code",
      "source": [
        "#Finding hypernyms and hyponyms\n",
        "hypernyms = []\n",
        "hyponyms = []\n",
        "for synset in synsets:\n",
        "    hypernyms.extend(synset.hypernyms())\n",
        "    hyponyms.extend(synset.hyponyms())\n",
        "\n",
        "print(\"Hypernyms:\")\n",
        "for hypernym in hypernyms:\n",
        "    print(hypernym.name())\n",
        "\n",
        "print(\"Hyponyms:\")\n",
        "for hyponym in hyponyms:\n",
        "    print(hyponym.name())"
      ],
      "metadata": {
        "colab": {
          "base_uri": "https://localhost:8080/"
        },
        "id": "J8yzL-5oS2Sc",
        "outputId": "34510273-6b5c-4d13-b008-ad5bdf0195d5"
      },
      "execution_count": null,
      "outputs": [
        {
          "output_type": "stream",
          "name": "stdout",
          "text": [
            "Hypernyms:\n",
            "diversion.n.01\n",
            "occupation.n.01\n",
            "vacationer.n.01\n",
            "person.n.01\n",
            "athlete.n.01\n",
            "organism.n.01\n",
            "wit.n.01\n",
            "have.v.02\n",
            "play.v.05\n",
            "Hyponyms:\n",
            "archery.n.01\n",
            "athletic_game.n.01\n",
            "blood_sport.n.01\n",
            "contact_sport.n.01\n",
            "cycling.n.01\n",
            "funambulism.n.01\n",
            "gymnastics.n.01\n",
            "judo.n.01\n",
            "outdoor_sport.n.01\n",
            "racing.n.01\n",
            "riding.n.01\n",
            "rock_climbing.n.01\n",
            "rowing.n.01\n",
            "skating.n.01\n",
            "skiing.n.01\n",
            "sledding.n.01\n",
            "spectator_sport.n.01\n",
            "team_sport.n.01\n",
            "track_and_field.n.01\n",
            "water_sport.n.01\n",
            "professional_baseball.n.01\n",
            "professional_basketball.n.01\n",
            "professional_boxing.n.01\n",
            "professional_football.n.01\n",
            "professional_golf.n.01\n",
            "professional_tennis.n.01\n",
            "professional_wrestling.n.01\n",
            "sumo.n.01\n",
            "freak.n.01\n",
            "drollery.n.01\n",
            "jocosity.n.01\n",
            "pun.n.01\n",
            "waggery.n.01\n"
          ]
        }
      ]
    },
    {
      "cell_type": "code",
      "source": [
        "#Calculating semantic similarity\n",
        "sport_synsets = wordnet.synsets('sport')\n",
        "game_synsets = wordnet.synsets('game')\n",
        "max_similarity = 0\n",
        "for sport_synset in sport_synsets:\n",
        "    for game_synset in game_synsets:\n",
        "        similarity = sport_synset.wup_similarity(game_synset)\n",
        "        if similarity is not None and similarity > max_similarity:\n",
        "            max_similarity = similarity\n",
        "\n",
        "print(\"Semantic similarity between 'sport' and 'game':\", max_similarity)\n"
      ],
      "metadata": {
        "colab": {
          "base_uri": "https://localhost:8080/"
        },
        "id": "cx__xcW9Ylrt",
        "outputId": "6b9f60d3-13b9-432b-fbe7-3468bc0b9395"
      },
      "execution_count": null,
      "outputs": [
        {
          "output_type": "stream",
          "name": "stdout",
          "text": [
            "Semantic similarity between 'sport' and 'game': 0.875\n"
          ]
        }
      ]
    },
    {
      "cell_type": "code",
      "source": [
        "#Word sense disambiguation\n",
        "import nltk\n",
        "nltk.download('punkt')\n",
        "from nltk.corpus import wordnet\n",
        "\n",
        "sentence = \"I love playing sport in my free time.\"\n",
        "target_word = \"sport\"\n",
        "\n",
        "synsets = wordnet.synsets(target_word)\n",
        "\n",
        "best_synset = None\n",
        "max_overlap = 0\n",
        "for synset in synsets:\n",
        "    definition = synset.definition()\n",
        "    examples = synset.examples()\n",
        "\n",
        "    definition_tokens = set(nltk.word_tokenize(definition))\n",
        "    example_tokens = set(token for example in examples for token in nltk.word_tokenize(example))\n",
        "\n",
        "    overlap = len(definition_tokens.intersection(sentence.split())) + len(example_tokens.intersection(sentence.split()))\n",
        "\n",
        "    if overlap > max_overlap:\n",
        "        best_synset = synset\n",
        "        max_overlap = overlap\n",
        "print(\"Disambiguated sense of the word '\", target_word, \"':\", best_synset.definition())\n"
      ],
      "metadata": {
        "colab": {
          "base_uri": "https://localhost:8080/"
        },
        "id": "0odpDJ5vZKT_",
        "outputId": "2442c7ff-01d8-45b6-ddb3-008b9f428b7d"
      },
      "execution_count": null,
      "outputs": [
        {
          "output_type": "stream",
          "name": "stderr",
          "text": [
            "[nltk_data] Downloading package punkt to /root/nltk_data...\n",
            "[nltk_data]   Unzipping tokenizers/punkt.zip.\n"
          ]
        },
        {
          "output_type": "stream",
          "name": "stdout",
          "text": [
            "Disambiguated sense of the word ' sport ': verbal wit or mockery (often at another's expense but not to be taken seriously)\n"
          ]
        }
      ]
    },
    {
      "cell_type": "code",
      "source": [
        "synsets = wordnet.synsets(target_word)\n",
        "best_synset = None\n",
        "\n",
        "max_overlap = 0\n",
        "for synset in synsets:\n",
        "    definition = synset.definition()\n",
        "    examples = synset.examples()\n",
        "\n",
        "    definition_tokens = set(word for word, pos in nltk.pos_tag(nltk.word_tokenize(definition)) if pos.startswith('N') or pos.startswith('V'))\n",
        "    example_tokens = set(word for example in examples for word, pos in nltk.pos_tag(nltk.word_tokenize(example)) if pos.startswith('N') or pos.startswith('V'))\n",
        "\n",
        "    sentence_tokens = [word for word, pos in nltk.pos_tag(nltk.word_tokenize(sentence)) if pos.startswith('N') or pos.startswith('V')]\n",
        "    overlap = len(definition_tokens.intersection(sentence_tokens)) + len(example_tokens.intersection(sentence_tokens))\n",
        "    if overlap > max_overlap:\n",
        "        best_synset = synset\n",
        "        max_overlap = overlap\n",
        "\n",
        "print(\"Disambiguated sense of the word '\", target_word, \"':\", best_synset.definition())\n"
      ],
      "metadata": {
        "colab": {
          "base_uri": "https://localhost:8080/"
        },
        "id": "g-r8Qd5EcPU6",
        "outputId": "52a47f72-1ee7-447d-d28e-81c28157e16c"
      },
      "execution_count": null,
      "outputs": [
        {
          "output_type": "stream",
          "name": "stdout",
          "text": [
            "Disambiguated sense of the word ' sport ': a person known for the way she (or he) behaves when teased or defeated or subjected to trying circumstances\n"
          ]
        }
      ]
    }
  ]
}